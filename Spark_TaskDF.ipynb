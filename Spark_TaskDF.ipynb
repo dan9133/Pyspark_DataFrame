{
  "nbformat": 4,
  "nbformat_minor": 0,
  "metadata": {
    "colab": {
      "provenance": [],
      "authorship_tag": "ABX9TyN9zPRBMa67QNgrMBWg16mP",
      "include_colab_link": true
    },
    "kernelspec": {
      "name": "python3",
      "display_name": "Python 3"
    },
    "language_info": {
      "name": "python"
    }
  },
  "cells": [
    {
      "cell_type": "markdown",
      "metadata": {
        "id": "view-in-github",
        "colab_type": "text"
      },
      "source": [
        "<a href=\"https://colab.research.google.com/github/dan9133/Pyspark_DataFrame/blob/main/Spark_TaskDF.ipynb\" target=\"_parent\"><img src=\"https://colab.research.google.com/assets/colab-badge.svg\" alt=\"Open In Colab\"/></a>"
      ]
    },
    {
      "cell_type": "code",
      "execution_count": null,
      "metadata": {
        "colab": {
          "base_uri": "https://localhost:8080/"
        },
        "id": "Vnb7ILX6asqO",
        "outputId": "16002a45-c6b6-4e72-d776-8b4a6bf731ca"
      },
      "outputs": [
        {
          "output_type": "stream",
          "name": "stdout",
          "text": [
            "Looking in indexes: https://pypi.org/simple, https://us-python.pkg.dev/colab-wheels/public/simple/\n",
            "Collecting pyspark\n",
            "  Downloading pyspark-3.4.0.tar.gz (310.8 MB)\n",
            "\u001b[2K     \u001b[90m━━━━━━━━━━━━━━━━━━━━━━━━━━━━━━━━━━━━━━━\u001b[0m \u001b[32m310.8/310.8 MB\u001b[0m \u001b[31m3.8 MB/s\u001b[0m eta \u001b[36m0:00:00\u001b[0m\n",
            "\u001b[?25h  Preparing metadata (setup.py) ... \u001b[?25l\u001b[?25hdone\n",
            "Requirement already satisfied: py4j==0.10.9.7 in /usr/local/lib/python3.10/dist-packages (from pyspark) (0.10.9.7)\n",
            "Building wheels for collected packages: pyspark\n",
            "  Building wheel for pyspark (setup.py) ... \u001b[?25l\u001b[?25hdone\n",
            "  Created wheel for pyspark: filename=pyspark-3.4.0-py2.py3-none-any.whl size=311317130 sha256=f21048950cd05d142589eacafb2124441be38ece4e013ed50ddbc12585ea5024\n",
            "  Stored in directory: /root/.cache/pip/wheels/7b/1b/4b/3363a1d04368e7ff0d408e57ff57966fcdf00583774e761327\n",
            "Successfully built pyspark\n",
            "Installing collected packages: pyspark\n",
            "Successfully installed pyspark-3.4.0\n"
          ]
        }
      ],
      "source": [
        "pip install pyspark"
      ]
    },
    {
      "cell_type": "code",
      "source": [
        "from pyspark import SparkContext,SparkConf"
      ],
      "metadata": {
        "id": "mO2bp2-7cToA"
      },
      "execution_count": null,
      "outputs": []
    },
    {
      "cell_type": "code",
      "source": [
        "conf=SparkConf().setAppName(\"demo\").setMaster(\"local\")"
      ],
      "metadata": {
        "id": "lqBXvsUxcWga"
      },
      "execution_count": null,
      "outputs": []
    },
    {
      "cell_type": "code",
      "source": [
        "sc=SparkContext(conf=conf)"
      ],
      "metadata": {
        "id": "dBa_TLxhcbdx"
      },
      "execution_count": null,
      "outputs": []
    },
    {
      "cell_type": "code",
      "source": [
        "from pyspark.sql import SparkSession"
      ],
      "metadata": {
        "id": "WsphAxAIdH5G"
      },
      "execution_count": null,
      "outputs": []
    },
    {
      "cell_type": "code",
      "source": [
        "spark=SparkSession.builder.getOrCreate()"
      ],
      "metadata": {
        "id": "_0H5igTvc6XP"
      },
      "execution_count": null,
      "outputs": []
    },
    {
      "cell_type": "code",
      "source": [
        "help(spark.createDataFrame)"
      ],
      "metadata": {
        "colab": {
          "base_uri": "https://localhost:8080/"
        },
        "id": "hakZSrCndrQg",
        "outputId": "9afa6e33-591f-479f-927d-342d256460dd"
      },
      "execution_count": null,
      "outputs": [
        {
          "output_type": "stream",
          "name": "stdout",
          "text": [
            "Help on method createDataFrame in module pyspark.sql.session:\n",
            "\n",
            "createDataFrame(data: Union[pyspark.rdd.RDD[Any], Iterable[Any], ForwardRef('PandasDataFrameLike'), ForwardRef('ArrayLike')], schema: Union[pyspark.sql.types.AtomicType, pyspark.sql.types.StructType, str, NoneType] = None, samplingRatio: Optional[float] = None, verifySchema: bool = True) -> pyspark.sql.dataframe.DataFrame method of pyspark.sql.session.SparkSession instance\n",
            "    Creates a :class:`DataFrame` from an :class:`RDD`, a list, a :class:`pandas.DataFrame`\n",
            "    or a :class:`numpy.ndarray`.\n",
            "    \n",
            "    .. versionadded:: 2.0.0\n",
            "    \n",
            "    .. versionchanged:: 3.4.0\n",
            "        Supports Spark Connect.\n",
            "    \n",
            "    Parameters\n",
            "    ----------\n",
            "    data : :class:`RDD` or iterable\n",
            "        an RDD of any kind of SQL data representation (:class:`Row`,\n",
            "        :class:`tuple`, ``int``, ``boolean``, etc.), or :class:`list`,\n",
            "        :class:`pandas.DataFrame` or :class:`numpy.ndarray`.\n",
            "    schema : :class:`pyspark.sql.types.DataType`, str or list, optional\n",
            "        a :class:`pyspark.sql.types.DataType` or a datatype string or a list of\n",
            "        column names, default is None.  The data type string format equals to\n",
            "        :class:`pyspark.sql.types.DataType.simpleString`, except that top level struct type can\n",
            "        omit the ``struct<>``.\n",
            "    \n",
            "        When ``schema`` is a list of column names, the type of each column\n",
            "        will be inferred from ``data``.\n",
            "    \n",
            "        When ``schema`` is ``None``, it will try to infer the schema (column names and types)\n",
            "        from ``data``, which should be an RDD of either :class:`Row`,\n",
            "        :class:`namedtuple`, or :class:`dict`.\n",
            "    \n",
            "        When ``schema`` is :class:`pyspark.sql.types.DataType` or a datatype string, it must\n",
            "        match the real data, or an exception will be thrown at runtime. If the given schema is\n",
            "        not :class:`pyspark.sql.types.StructType`, it will be wrapped into a\n",
            "        :class:`pyspark.sql.types.StructType` as its only field, and the field name will be\n",
            "        \"value\". Each record will also be wrapped into a tuple, which can be converted to row\n",
            "        later.\n",
            "    samplingRatio : float, optional\n",
            "        the sample ratio of rows used for inferring. The first few rows will be used\n",
            "        if ``samplingRatio`` is ``None``.\n",
            "    verifySchema : bool, optional\n",
            "        verify data types of every row against schema. Enabled by default.\n",
            "    \n",
            "        .. versionadded:: 2.1.0\n",
            "    \n",
            "    Returns\n",
            "    -------\n",
            "    :class:`DataFrame`\n",
            "    \n",
            "    Notes\n",
            "    -----\n",
            "    Usage with `spark.sql.execution.arrow.pyspark.enabled=True` is experimental.\n",
            "    \n",
            "    Examples\n",
            "    --------\n",
            "    Create a DataFrame from a list of tuples.\n",
            "    \n",
            "    >>> spark.createDataFrame([('Alice', 1)]).collect()\n",
            "    [Row(_1='Alice', _2=1)]\n",
            "    >>> spark.createDataFrame([('Alice', 1)], ['name', 'age']).collect()\n",
            "    [Row(name='Alice', age=1)]\n",
            "    \n",
            "    Create a DataFrame from a list of dictionaries\n",
            "    \n",
            "    >>> d = [{'name': 'Alice', 'age': 1}]\n",
            "    >>> spark.createDataFrame(d).collect()\n",
            "    [Row(age=1, name='Alice')]\n",
            "    \n",
            "    Create a DataFrame from an RDD.\n",
            "    \n",
            "    >>> rdd = spark.sparkContext.parallelize([('Alice', 1)])\n",
            "    >>> spark.createDataFrame(rdd).collect()\n",
            "    [Row(_1='Alice', _2=1)]\n",
            "    >>> df = spark.createDataFrame(rdd, ['name', 'age'])\n",
            "    >>> df.collect()\n",
            "    [Row(name='Alice', age=1)]\n",
            "    \n",
            "    Create a DataFrame from Row instances.\n",
            "    \n",
            "    >>> from pyspark.sql import Row\n",
            "    >>> Person = Row('name', 'age')\n",
            "    >>> person = rdd.map(lambda r: Person(*r))\n",
            "    >>> df2 = spark.createDataFrame(person)\n",
            "    >>> df2.collect()\n",
            "    [Row(name='Alice', age=1)]\n",
            "    \n",
            "    Create a DataFrame with the explicit schema specified.\n",
            "    \n",
            "    >>> from pyspark.sql.types import *\n",
            "    >>> schema = StructType([\n",
            "    ...    StructField(\"name\", StringType(), True),\n",
            "    ...    StructField(\"age\", IntegerType(), True)])\n",
            "    >>> df3 = spark.createDataFrame(rdd, schema)\n",
            "    >>> df3.collect()\n",
            "    [Row(name='Alice', age=1)]\n",
            "    \n",
            "    Create a DataFrame from a pandas DataFrame.\n",
            "    \n",
            "    >>> spark.createDataFrame(df.toPandas()).collect()  # doctest: +SKIP\n",
            "    [Row(name='Alice', age=1)]\n",
            "    >>> spark.createDataFrame(pandas.DataFrame([[1, 2]])).collect()  # doctest: +SKIP\n",
            "    [Row(0=1, 1=2)]\n",
            "    \n",
            "    Create  a DataFrame from an RDD with the schema in DDL formatted string.\n",
            "    \n",
            "    >>> spark.createDataFrame(rdd, \"a: string, b: int\").collect()\n",
            "    [Row(a='Alice', b=1)]\n",
            "    >>> rdd = rdd.map(lambda row: row[1])\n",
            "    >>> spark.createDataFrame(rdd, \"int\").collect()\n",
            "    [Row(value=1)]\n",
            "    \n",
            "    When the type is unmatched, it throws an exception.\n",
            "    \n",
            "    >>> spark.createDataFrame(rdd, \"boolean\").collect() # doctest: +IGNORE_EXCEPTION_DETAIL\n",
            "    Traceback (most recent call last):\n",
            "        ...\n",
            "    Py4JJavaError: ...\n",
            "\n"
          ]
        }
      ]
    },
    {
      "cell_type": "code",
      "source": [
        "data= [(\"James\",\"\",\"Smith\",\"36636\",\"M\",60000),\n",
        "\n",
        "        (\"Michael\",\"Rose\",\"\",\"40288\",\"M\",70000),\n",
        "\n",
        "        (\"Robert\",\"\",\"Williams\",\"42114\",\"\",400000),\n",
        "\n",
        "        (\"Maria\",\"Anne\",\"Jones\",\"39192\",\"F\",500000),\n",
        "\n",
        "        (\"Jen\",\"Mary\",\"Brown\",\"\",\"F\",0)]"
      ],
      "metadata": {
        "id": "16EMVrsWa8Bt"
      },
      "execution_count": null,
      "outputs": []
    },
    {
      "cell_type": "code",
      "source": [
        "df=spark.createDataFrame(data)"
      ],
      "metadata": {
        "id": "O7_qmUzSbPlv"
      },
      "execution_count": null,
      "outputs": []
    },
    {
      "cell_type": "code",
      "source": [
        "df.show()"
      ],
      "metadata": {
        "colab": {
          "base_uri": "https://localhost:8080/"
        },
        "id": "7JflC3gJcDaS",
        "outputId": "891d0b49-5cfb-485b-83d5-af0565884333"
      },
      "execution_count": null,
      "outputs": [
        {
          "output_type": "stream",
          "name": "stdout",
          "text": [
            "+-------+----+--------+-----+---+------+\n",
            "|     _1|  _2|      _3|   _4| _5|    _6|\n",
            "+-------+----+--------+-----+---+------+\n",
            "|  James|    |   Smith|36636|  M| 60000|\n",
            "|Michael|Rose|        |40288|  M| 70000|\n",
            "| Robert|    |Williams|42114|   |400000|\n",
            "|  Maria|Anne|   Jones|39192|  F|500000|\n",
            "|    Jen|Mary|   Brown|     |  F|     0|\n",
            "+-------+----+--------+-----+---+------+\n",
            "\n"
          ]
        }
      ]
    },
    {
      "cell_type": "code",
      "source": [
        "df.printSchema()"
      ],
      "metadata": {
        "colab": {
          "base_uri": "https://localhost:8080/"
        },
        "id": "_ZpukIoHgY-b",
        "outputId": "c7b94f58-1fbe-417d-8ce6-88cfd444bd79"
      },
      "execution_count": null,
      "outputs": [
        {
          "output_type": "stream",
          "name": "stdout",
          "text": [
            "root\n",
            " |-- _1: string (nullable = true)\n",
            " |-- _2: string (nullable = true)\n",
            " |-- _3: string (nullable = true)\n",
            " |-- _4: string (nullable = true)\n",
            " |-- _5: string (nullable = true)\n",
            " |-- _6: long (nullable = true)\n",
            "\n"
          ]
        }
      ]
    },
    {
      "cell_type": "code",
      "source": [
        "#Create a Dataframe using user defined schema (str type) with same data as given on Task 1\n",
        "import pandas as pd\n",
        "from ast import literal_eval\n",
        "\n",
        "# User-defined schema in string form\n",
        "user_define_str = '''\n",
        "[(\"James\",\"\",\"Smith\",\"36636\",\"M\",60000),\n",
        " (\"Michael\",\"Rose\",\"\",\"40288\",\"M\",70000),\n",
        " (\"Robert\",\"\",\"Williams\",\"42114\",\"\",400000),\n",
        " (\"Maria\",\"Anne\",\"Jones\",\"39192\",\"F\",500000),\n",
        " (\"Jen\",\"Mary\",\"Brown\",\"\",\"F\",0)]\n",
        "'''\n",
        "\n",
        "# Convert the user-defined schema from string to a list of tuples\n",
        "user_define = literal_eval(user_define_str)\n",
        "\n",
        "# Define column names for the schema\n",
        "columns = ['First Name', 'Middle Name', 'Last Name', 'ID', 'Gender', 'Salary']\n",
        "\n",
        "# Create a DataFrame using the user-defined schema and data\n",
        "df = pd.DataFrame(user_define, columns=columns)\n",
        "\n",
        "# Print the DataFrame\n",
        "print(df)\n",
        "\n",
        "\n",
        "\n",
        "\n",
        "\n",
        "\n"
      ],
      "metadata": {
        "colab": {
          "base_uri": "https://localhost:8080/"
        },
        "id": "kxgjOp6neXq3",
        "outputId": "cd5de634-7a0d-416a-a168-bc9d154b2a03"
      },
      "execution_count": null,
      "outputs": [
        {
          "output_type": "stream",
          "name": "stdout",
          "text": [
            "  First Name Middle Name Last Name     ID Gender  Salary\n",
            "0      James                 Smith  36636      M   60000\n",
            "1    Michael        Rose            40288      M   70000\n",
            "2     Robert              Williams  42114         400000\n",
            "3      Maria        Anne     Jones  39192      F  500000\n",
            "4        Jen        Mary     Brown             F       0\n"
          ]
        }
      ]
    },
    {
      "cell_type": "code",
      "source": [
        "# Create a Dataframe using user defined schema (List type) with same data as given on\n",
        "\n",
        "data = [\n",
        "    [\"James\", \"\", \"Smith\", \"36636\", \"M\", 60000],\n",
        "    [\"Michael\", \"Rose\", \"\", \"40288\", \"M\", 70000],\n",
        "    [\"Robert\", \"\", \"Williams\", \"42114\", \"\", 400000],\n",
        "    [\"Maria\", \"Anne\", \"Jones\", \"39192\", \"F\", 500000],\n",
        "    [\"Jen\", \"Mary\", \"Brown\", \"\", \"F\", 0]\n",
        "]\n"
      ],
      "metadata": {
        "id": "ArtNKO2NmadW"
      },
      "execution_count": null,
      "outputs": []
    },
    {
      "cell_type": "code",
      "source": [
        "schema = [\"First Name\", \"Middle Name\", \"Last Name\", \"ID\", \"Gender\", \"Salary\"]\n"
      ],
      "metadata": {
        "id": "PYK7TymopZyY"
      },
      "execution_count": null,
      "outputs": []
    },
    {
      "cell_type": "code",
      "source": [
        "df = pd.DataFrame(data, columns=schema)\n",
        "print(df)\n",
        "\n"
      ],
      "metadata": {
        "colab": {
          "base_uri": "https://localhost:8080/"
        },
        "id": "JiZ1VC2TqTBX",
        "outputId": "9d83b575-cad2-405f-8c0e-d5cce14b4cf7"
      },
      "execution_count": null,
      "outputs": [
        {
          "output_type": "stream",
          "name": "stdout",
          "text": [
            "  First Name Middle Name Last Name     ID Gender  Salary\n",
            "0      James                 Smith  36636      M   60000\n",
            "1    Michael        Rose            40288      M   70000\n",
            "2     Robert              Williams  42114         400000\n",
            "3      Maria        Anne     Jones  39192      F  500000\n",
            "4        Jen        Mary     Brown             F       0\n"
          ]
        }
      ]
    },
    {
      "cell_type": "code",
      "source": [
        "# Create a Dataframe using user defined schema (pyspark data type) with same data\n",
        "\n",
        "from pyspark.sql import SparkSession\n",
        "from pyspark.sql.types import StringType, IntegerType, StructField, StructType\n",
        "import datetime\n",
        "# Create a SparkSession\n",
        "spark = SparkSession.builder.getOrCreate()\n",
        "\n",
        "# User-defined schema using PySpark data types\n",
        "schema = StructType([\n",
        "    StructField(\"First Name\", StringType(), nullable=True),\n",
        "    StructField(\"Middle Name\", StringType(), nullable=True),\n",
        "    StructField(\"Last Name\", StringType(), nullable=True),\n",
        "    StructField(\"ID\", StringType(), nullable=True),\n",
        "    StructField(\"Gender\", StringType(), nullable=True),\n",
        "    StructField(\"Salary\", IntegerType(), nullable=True)\n",
        "])\n",
        "\n",
        "# Data provided\n",
        "data = [\n",
        "    (\"James\", \"\", \"Smith\", \"36636\", \"M\", 60000),\n",
        "    (\"Michael\", \"Rose\", \"\", \"40288\", \"M\", 70000),\n",
        "    (\"Robert\", \"\", \"Williams\", \"42114\", \"\", 400000),\n",
        "    (\"Maria\", \"Anne\", \"Jones\", \"39192\", \"F\", 500000),\n",
        "    (\"Jen\", \"Mary\", \"Brown\", \"\", \"F\", 0)\n",
        "]\n",
        "\n",
        "# Create a DataFrame using the user-defined schema and data\n",
        "df = spark.createDataFrame(data, schema)\n",
        "\n",
        "# Print the DataFrame\n",
        "df.show()\n"
      ],
      "metadata": {
        "colab": {
          "base_uri": "https://localhost:8080/"
        },
        "id": "Ys-pff5xqZiJ",
        "outputId": "f9c77adc-53e0-423c-f3e9-643a973205d0"
      },
      "execution_count": null,
      "outputs": [
        {
          "output_type": "stream",
          "name": "stdout",
          "text": [
            "+----------+-----------+---------+-----+------+------+\n",
            "|First Name|Middle Name|Last Name|   ID|Gender|Salary|\n",
            "+----------+-----------+---------+-----+------+------+\n",
            "|     James|           |    Smith|36636|     M| 60000|\n",
            "|   Michael|       Rose|         |40288|     M| 70000|\n",
            "|    Robert|           | Williams|42114|      |400000|\n",
            "|     Maria|       Anne|    Jones|39192|     F|500000|\n",
            "|       Jen|       Mary|    Brown|     |     F|     0|\n",
            "+----------+-----------+---------+-----+------+------+\n",
            "\n"
          ]
        }
      ]
    },
    {
      "cell_type": "code",
      "source": [
        " import pandas as pd\n",
        "\n",
        "users = [\n",
        "    {\n",
        "        \"id\": 1,\n",
        "        \"first_name\": 'Sachin',\n",
        "        \"last_name\": 'Tendulkar',\n",
        "        \"mail\": 'sachin@mail.com',\n",
        "        \"phone_numbers\": [\"+1 234 567 789\", \"+91 123987645\"],\n",
        "        \"is_customer\": True,\n",
        "        \"amount_paid\": 1000.2,\n",
        "        \"customer_from\": datetime.date(2002, 12, 31),\n",
        "        \"last_update_ts\": datetime.date(2022, 1, 1)\n",
        "    },\n",
        "    {\n",
        "        \"id\": 2,\n",
        "        \"first_name\": 'M S',\n",
        "        \"last_name\": 'Dhoni',\n",
        "        \"mail\": 'mahi@mail.com',\n",
        "        \"phone_numbers\": [\"+1 789 567 234\", \"+91 124137645\"],\n",
        "        \"is_customer\": True,\n",
        "        \"amount_paid\": 2000.4,\n",
        "        \"customer_from\": datetime.date(2004, 5, 30),\n",
        "        \"last_update_ts\": datetime.date(2022, 11, 29)\n",
        "    },\n",
        "    {\n",
        "        \"id\": 3,\n",
        "        \"first_name\": 'Rahul',\n",
        "        \"last_name\": 'Dravid',\n",
        "        \"mail\": 'Rahul@mail.com',\n",
        "        \"phone_numbers\": [\"\", \"+91 124137645\"],\n",
        "        \"is_customer\": True,\n",
        "        \"amount_paid\": 3000.0,\n",
        "        \"customer_from\": datetime.date(2016, 3, 18),\n",
        "        \"last_update_ts\": datetime.date(2020, 3, 24)\n",
        "    },\n",
        "    {\n",
        "        \"id\": 4,\n",
        "        \"first_name\": 'Hardik',\n",
        "        \"last_name\": 'pandya',\n",
        "        \"mail\": 'hardik@mail.com',\n",
        "        \"phone_numbers\": [\"+1 789 567 234\", \"\"],\n",
        "        \"is_customer\": True,\n",
        "        \"amount_paid\": 1500.5,\n",
        "        \"customer_from\": datetime.date(1990, 12, 3),\n",
        "        \"last_update_ts\": datetime.date(2022, 3, 2)\n",
        "    },\n",
        "    {\n",
        "        \"id\": 5,\n",
        "        \"first_name\": 'Shubman',\n",
        "        \"last_name\": 'Gill',\n",
        "        \"mail\": 'shubman@mail.com',\n",
        "        \"phone_numbers\": [\"\", \"\"],\n",
        "        \"is_customer\": True,\n",
        "        \"amount_paid\": 500.5,\n",
        "        \"customer_from\": datetime.date(1995, 2, 19),\n",
        "        \"last_update_ts\": datetime.date(2022, 1, 21)\n",
        "    }\n",
        "]\n",
        "\n",
        "# Create a DataFrame from the given data\n",
        "df = pd.DataFrame(users)\n",
        "\n",
        "# Print the DataFrame\n",
        "print(df)\n"
      ],
      "metadata": {
        "colab": {
          "base_uri": "https://localhost:8080/"
        },
        "id": "NfNXIPcz0Ic0",
        "outputId": "1567dd6e-f889-4269-ec0f-e81411f445a7"
      },
      "execution_count": null,
      "outputs": [
        {
          "output_type": "stream",
          "name": "stdout",
          "text": [
            "   id first_name  last_name              mail  \\\n",
            "0   1     Sachin  Tendulkar   sachin@mail.com   \n",
            "1   2        M S      Dhoni     mahi@mail.com   \n",
            "2   3      Rahul     Dravid    Rahul@mail.com   \n",
            "3   4     Hardik     pandya   hardik@mail.com   \n",
            "4   5    Shubman       Gill  shubman@mail.com   \n",
            "\n",
            "                     phone_numbers  is_customer  amount_paid customer_from  \\\n",
            "0  [+1 234 567 789, +91 123987645]         True       1000.2    2002-12-31   \n",
            "1  [+1 789 567 234, +91 124137645]         True       2000.4    2004-05-30   \n",
            "2                [, +91 124137645]         True       3000.0    2016-03-18   \n",
            "3               [+1 789 567 234, ]         True       1500.5    1990-12-03   \n",
            "4                             [, ]         True        500.5    1995-02-19   \n",
            "\n",
            "  last_update_ts  \n",
            "0     2022-01-01  \n",
            "1     2022-11-29  \n",
            "2     2020-03-24  \n",
            "3     2022-03-02  \n",
            "4     2022-01-21  \n"
          ]
        }
      ]
    },
    {
      "cell_type": "code",
      "source": [
        " # Create a Dataframe using user defined schema (pyspark data type) with same data as given on Task 5\n",
        "\n",
        "# Define the user-defined schema\n",
        "from pyspark.sql import SparkSession\n",
        "from pyspark.sql import types as T\n",
        "import datetime\n",
        "\n",
        "# Create a SparkSession\n",
        "spark = SparkSession.builder.getOrCreate()\n",
        "schema = T.StructType([\n",
        "    T.StructField(\"id\", T.IntegerType(), True),\n",
        "    T.StructField(\"first_name\", T.StringType(), True),\n",
        "    T.StructField(\"last_name\", T.StringType(), True),\n",
        "    T.StructField(\"mail\", T.StringType(), True),\n",
        "    T.StructField(\"phone_numbers\", T.ArrayType(T.StringType()), True),\n",
        "    T.StructField(\"is_customer\", T.BooleanType(), True),\n",
        "    T.StructField(\"amount_paid\", T.DoubleType(), True),\n",
        "    T.StructField(\"customer_from\", T.DateType(), True),\n",
        "    T.StructField(\"last_update_ts\", T.DateType(), True)\n",
        "])"
      ],
      "metadata": {
        "id": "ZrxrszJe-AXB"
      },
      "execution_count": null,
      "outputs": []
    },
    {
      "cell_type": "code",
      "source": [
        "# Create the DataFrame\n",
        "df = spark.createDataFrame(users, schema)\n",
        "\n",
        "# Show the DataFrame\n",
        "df.show()"
      ],
      "metadata": {
        "colab": {
          "base_uri": "https://localhost:8080/"
        },
        "id": "DYRxIvO_-O_r",
        "outputId": "1fd21146-b50e-49b7-80d1-67979896c0ce"
      },
      "execution_count": null,
      "outputs": [
        {
          "output_type": "stream",
          "name": "stdout",
          "text": [
            "+---+----------+---------+----------------+--------------------+-----------+-----------+-------------+--------------+\n",
            "| id|first_name|last_name|            mail|       phone_numbers|is_customer|amount_paid|customer_from|last_update_ts|\n",
            "+---+----------+---------+----------------+--------------------+-----------+-----------+-------------+--------------+\n",
            "|  1|    Sachin|Tendulkar| sachin@mail.com|[+1 234 567 789, ...|       true|     1000.2|   2002-12-31|    2022-01-01|\n",
            "|  2|       M S|    Dhoni|   mahi@mail.com|[+1 789 567 234, ...|       true|     2000.4|   2004-05-30|    2022-11-29|\n",
            "|  3|     Rahul|   Dravid|  Rahul@mail.com|   [, +91 124137645]|       true|     3000.0|   2016-03-18|    2020-03-24|\n",
            "|  4|    Hardik|   pandya| hardik@mail.com|  [+1 789 567 234, ]|       true|     1500.5|   1990-12-03|    2022-03-02|\n",
            "|  5|   Shubman|     Gill|shubman@mail.com|                [, ]|       true|      500.5|   1995-02-19|    2022-01-21|\n",
            "+---+----------+---------+----------------+--------------------+-----------+-----------+-------------+--------------+\n",
            "\n"
          ]
        }
      ]
    },
    {
      "cell_type": "code",
      "source": [
        "\n",
        "\n",
        "# Use Df from task 6 and create new dataframe where first_name and last_name should be one column\n",
        "\n",
        "\n",
        "from pyspark.sql import SparkSession\n",
        "from pyspark.sql.functions import concat, col,lit\n",
        "\n",
        "# Create a SparkSession\n",
        "spark = SparkSession.builder.getOrCreate()\n",
        "\n",
        "# Assuming df is the DataFrame from Task 6\n",
        "df = spark.createDataFrame(users)\n",
        "\n",
        "# Create a new column by combining first_name and last_name\n",
        "df = df.withColumn('Full_name', concat(col('first_name'), col('last_name')))\n",
        "\n",
        "\n",
        "#  Drop the original first_name and last_name columns\n",
        "df = df.drop('first_name', 'last_name')\n",
        "\n",
        "# Show the updated DataFrame\n",
        "df.show()\n"
      ],
      "metadata": {
        "colab": {
          "base_uri": "https://localhost:8080/"
        },
        "id": "xITA4HFG6cGF",
        "outputId": "5f1c0e5e-15a0-4103-ef27-946cc1c8db20"
      },
      "execution_count": null,
      "outputs": [
        {
          "output_type": "stream",
          "name": "stdout",
          "text": [
            "+-----------+-------------+---+-----------+--------------+----------------+--------------------+---------------+\n",
            "|amount_paid|customer_from| id|is_customer|last_update_ts|            mail|       phone_numbers|      Full_name|\n",
            "+-----------+-------------+---+-----------+--------------+----------------+--------------------+---------------+\n",
            "|     1000.2|   2002-12-31|  1|       true|    2022-01-01| sachin@mail.com|[+1 234 567 789, ...|SachinTendulkar|\n",
            "|     2000.4|   2004-05-30|  2|       true|    2022-11-29|   mahi@mail.com|[+1 789 567 234, ...|       M SDhoni|\n",
            "|     3000.0|   2016-03-18|  3|       true|    2020-03-24|  Rahul@mail.com|   [, +91 124137645]|    RahulDravid|\n",
            "|     1500.5|   1990-12-03|  4|       true|    2022-03-02| hardik@mail.com|  [+1 789 567 234, ]|   Hardikpandya|\n",
            "|      500.5|   1995-02-19|  5|       true|    2022-01-21|shubman@mail.com|                [, ]|    ShubmanGill|\n",
            "+-----------+-------------+---+-----------+--------------+----------------+--------------------+---------------+\n",
            "\n"
          ]
        }
      ]
    },
    {
      "cell_type": "code",
      "source": [
        "# . task 8\n",
        "from pyspark.sql.functions import col,concat,lit\n",
        "from pyspark.sql.functions import *\n",
        "\n",
        "# Assuming df is the DataFrame with the 'name' column\n",
        "df = df.withColumn('sports_name', lit('cricketers'))\n",
        "\n",
        "\n",
        "# Show the updated DataFrame\n",
        "df.show()\n",
        "\n"
      ],
      "metadata": {
        "colab": {
          "base_uri": "https://localhost:8080/"
        },
        "id": "tCFC0RfM3q5A",
        "outputId": "b3c22fe9-3826-4425-8bb5-3e2e7aa11132"
      },
      "execution_count": null,
      "outputs": [
        {
          "output_type": "stream",
          "name": "stdout",
          "text": [
            "+-----------+-------------+---+-----------+--------------+----------------+--------------------+---------------+-----------+\n",
            "|amount_paid|customer_from| id|is_customer|last_update_ts|            mail|       phone_numbers|      Full_name|sports_name|\n",
            "+-----------+-------------+---+-----------+--------------+----------------+--------------------+---------------+-----------+\n",
            "|     1000.2|   2002-12-31|  1|       true|    2022-01-01| sachin@mail.com|[+1 234 567 789, ...|SachinTendulkar| cricketers|\n",
            "|     2000.4|   2004-05-30|  2|       true|    2022-11-29|   mahi@mail.com|[+1 789 567 234, ...|       M SDhoni| cricketers|\n",
            "|     3000.0|   2016-03-18|  3|       true|    2020-03-24|  Rahul@mail.com|   [, +91 124137645]|    RahulDravid| cricketers|\n",
            "|     1500.5|   1990-12-03|  4|       true|    2022-03-02| hardik@mail.com|  [+1 789 567 234, ]|   Hardikpandya| cricketers|\n",
            "|      500.5|   1995-02-19|  5|       true|    2022-01-21|shubman@mail.com|                [, ]|    ShubmanGill| cricketers|\n",
            "+-----------+-------------+---+-----------+--------------+----------------+--------------------+---------------+-----------+\n",
            "\n"
          ]
        }
      ]
    },
    {
      "cell_type": "code",
      "source": [
        "# create the DF in emp table\n",
        "import pandas as pd\n",
        "\n",
        "employees = [(1, \"Scott\", \"Tiger\", 1000.0,\n",
        "              \"united states\", \"+1 123 456 7890\", \"123 45 6789\"),\n",
        "             (2, \"Henry\", \"Ford\", 1250.0,\n",
        "              \"India\", \"+91 234 567 8901\", \"456 78 9123\"),\n",
        "             (3, \"Nick\", \"Junior\", 750.0,\n",
        "              \"united KINGDOM\", \"+44 111 111 1111\", \"222 33 4444\"),\n",
        "             (4, \"Bill\", \"Gomes\", 1500.0,\n",
        "              \"AUSTRALIA\", \"+61 987 654 3210\", \"789 12 6118\")]\n",
        "\n",
        "column_names = ['employee_id', 'first_name', 'last_name', 'salary',\n",
        "                'nationality', 'phone_number', 'ssn']\n",
        "\n",
        "employeesDF = pd.DataFrame(employees, columns=column_names)\n"
      ],
      "metadata": {
        "id": "YMM_IDQ2a28H"
      },
      "execution_count": null,
      "outputs": []
    },
    {
      "cell_type": "code",
      "source": [
        "#print(employeesDF)\n",
        "display(employeesDF)\n",
        "\n"
      ],
      "metadata": {
        "colab": {
          "base_uri": "https://localhost:8080/",
          "height": 175
        },
        "id": "OgHcqXo_bCMW",
        "outputId": "aac2adb8-97bd-4a08-864a-f4a8570fe569"
      },
      "execution_count": null,
      "outputs": [
        {
          "output_type": "display_data",
          "data": {
            "text/plain": [
              "   employee_id first_name last_name  salary     nationality      phone_number  \\\n",
              "0            1      Scott     Tiger  1000.0   united states   +1 123 456 7890   \n",
              "1            2      Henry      Ford  1250.0           India  +91 234 567 8901   \n",
              "2            3       Nick    Junior   750.0  united KINGDOM  +44 111 111 1111   \n",
              "3            4       Bill     Gomes  1500.0       AUSTRALIA  +61 987 654 3210   \n",
              "\n",
              "           ssn  \n",
              "0  123 45 6789  \n",
              "1  456 78 9123  \n",
              "2  222 33 4444  \n",
              "3  789 12 6118  "
            ],
            "text/html": [
              "\n",
              "  <div id=\"df-e293e346-0b98-4909-a605-4f3d78b9a207\">\n",
              "    <div class=\"colab-df-container\">\n",
              "      <div>\n",
              "<style scoped>\n",
              "    .dataframe tbody tr th:only-of-type {\n",
              "        vertical-align: middle;\n",
              "    }\n",
              "\n",
              "    .dataframe tbody tr th {\n",
              "        vertical-align: top;\n",
              "    }\n",
              "\n",
              "    .dataframe thead th {\n",
              "        text-align: right;\n",
              "    }\n",
              "</style>\n",
              "<table border=\"1\" class=\"dataframe\">\n",
              "  <thead>\n",
              "    <tr style=\"text-align: right;\">\n",
              "      <th></th>\n",
              "      <th>employee_id</th>\n",
              "      <th>first_name</th>\n",
              "      <th>last_name</th>\n",
              "      <th>salary</th>\n",
              "      <th>nationality</th>\n",
              "      <th>phone_number</th>\n",
              "      <th>ssn</th>\n",
              "    </tr>\n",
              "  </thead>\n",
              "  <tbody>\n",
              "    <tr>\n",
              "      <th>0</th>\n",
              "      <td>1</td>\n",
              "      <td>Scott</td>\n",
              "      <td>Tiger</td>\n",
              "      <td>1000.0</td>\n",
              "      <td>united states</td>\n",
              "      <td>+1 123 456 7890</td>\n",
              "      <td>123 45 6789</td>\n",
              "    </tr>\n",
              "    <tr>\n",
              "      <th>1</th>\n",
              "      <td>2</td>\n",
              "      <td>Henry</td>\n",
              "      <td>Ford</td>\n",
              "      <td>1250.0</td>\n",
              "      <td>India</td>\n",
              "      <td>+91 234 567 8901</td>\n",
              "      <td>456 78 9123</td>\n",
              "    </tr>\n",
              "    <tr>\n",
              "      <th>2</th>\n",
              "      <td>3</td>\n",
              "      <td>Nick</td>\n",
              "      <td>Junior</td>\n",
              "      <td>750.0</td>\n",
              "      <td>united KINGDOM</td>\n",
              "      <td>+44 111 111 1111</td>\n",
              "      <td>222 33 4444</td>\n",
              "    </tr>\n",
              "    <tr>\n",
              "      <th>3</th>\n",
              "      <td>4</td>\n",
              "      <td>Bill</td>\n",
              "      <td>Gomes</td>\n",
              "      <td>1500.0</td>\n",
              "      <td>AUSTRALIA</td>\n",
              "      <td>+61 987 654 3210</td>\n",
              "      <td>789 12 6118</td>\n",
              "    </tr>\n",
              "  </tbody>\n",
              "</table>\n",
              "</div>\n",
              "      <button class=\"colab-df-convert\" onclick=\"convertToInteractive('df-e293e346-0b98-4909-a605-4f3d78b9a207')\"\n",
              "              title=\"Convert this dataframe to an interactive table.\"\n",
              "              style=\"display:none;\">\n",
              "        \n",
              "  <svg xmlns=\"http://www.w3.org/2000/svg\" height=\"24px\"viewBox=\"0 0 24 24\"\n",
              "       width=\"24px\">\n",
              "    <path d=\"M0 0h24v24H0V0z\" fill=\"none\"/>\n",
              "    <path d=\"M18.56 5.44l.94 2.06.94-2.06 2.06-.94-2.06-.94-.94-2.06-.94 2.06-2.06.94zm-11 1L8.5 8.5l.94-2.06 2.06-.94-2.06-.94L8.5 2.5l-.94 2.06-2.06.94zm10 10l.94 2.06.94-2.06 2.06-.94-2.06-.94-.94-2.06-.94 2.06-2.06.94z\"/><path d=\"M17.41 7.96l-1.37-1.37c-.4-.4-.92-.59-1.43-.59-.52 0-1.04.2-1.43.59L10.3 9.45l-7.72 7.72c-.78.78-.78 2.05 0 2.83L4 21.41c.39.39.9.59 1.41.59.51 0 1.02-.2 1.41-.59l7.78-7.78 2.81-2.81c.8-.78.8-2.07 0-2.86zM5.41 20L4 18.59l7.72-7.72 1.47 1.35L5.41 20z\"/>\n",
              "  </svg>\n",
              "      </button>\n",
              "      \n",
              "  <style>\n",
              "    .colab-df-container {\n",
              "      display:flex;\n",
              "      flex-wrap:wrap;\n",
              "      gap: 12px;\n",
              "    }\n",
              "\n",
              "    .colab-df-convert {\n",
              "      background-color: #E8F0FE;\n",
              "      border: none;\n",
              "      border-radius: 50%;\n",
              "      cursor: pointer;\n",
              "      display: none;\n",
              "      fill: #1967D2;\n",
              "      height: 32px;\n",
              "      padding: 0 0 0 0;\n",
              "      width: 32px;\n",
              "    }\n",
              "\n",
              "    .colab-df-convert:hover {\n",
              "      background-color: #E2EBFA;\n",
              "      box-shadow: 0px 1px 2px rgba(60, 64, 67, 0.3), 0px 1px 3px 1px rgba(60, 64, 67, 0.15);\n",
              "      fill: #174EA6;\n",
              "    }\n",
              "\n",
              "    [theme=dark] .colab-df-convert {\n",
              "      background-color: #3B4455;\n",
              "      fill: #D2E3FC;\n",
              "    }\n",
              "\n",
              "    [theme=dark] .colab-df-convert:hover {\n",
              "      background-color: #434B5C;\n",
              "      box-shadow: 0px 1px 3px 1px rgba(0, 0, 0, 0.15);\n",
              "      filter: drop-shadow(0px 1px 2px rgba(0, 0, 0, 0.3));\n",
              "      fill: #FFFFFF;\n",
              "    }\n",
              "  </style>\n",
              "\n",
              "      <script>\n",
              "        const buttonEl =\n",
              "          document.querySelector('#df-e293e346-0b98-4909-a605-4f3d78b9a207 button.colab-df-convert');\n",
              "        buttonEl.style.display =\n",
              "          google.colab.kernel.accessAllowed ? 'block' : 'none';\n",
              "\n",
              "        async function convertToInteractive(key) {\n",
              "          const element = document.querySelector('#df-e293e346-0b98-4909-a605-4f3d78b9a207');\n",
              "          const dataTable =\n",
              "            await google.colab.kernel.invokeFunction('convertToInteractive',\n",
              "                                                     [key], {});\n",
              "          if (!dataTable) return;\n",
              "\n",
              "          const docLinkHtml = 'Like what you see? Visit the ' +\n",
              "            '<a target=\"_blank\" href=https://colab.research.google.com/notebooks/data_table.ipynb>data table notebook</a>'\n",
              "            + ' to learn more about interactive tables.';\n",
              "          element.innerHTML = '';\n",
              "          dataTable['output_type'] = 'display_data';\n",
              "          await google.colab.output.renderOutput(dataTable, element);\n",
              "          const docLink = document.createElement('div');\n",
              "          docLink.innerHTML = docLinkHtml;\n",
              "          element.appendChild(docLink);\n",
              "        }\n",
              "      </script>\n",
              "    </div>\n",
              "  </div>\n",
              "  "
            ]
          },
          "metadata": {}
        }
      ]
    },
    {
      "cell_type": "code",
      "source": [
        "# I want empId,salary,phone_num,and ssn in Df forms\n",
        "\n",
        "import pandas as pd\n",
        "\n",
        "# Assuming you already have the employeesDF DataFrame\n",
        "\n",
        "# Create a new DataFrame with desired columns\n",
        "modifiedDF = employeesDF[['employee_id','phone_number','ssn']].copy()\n",
        "\n",
        "# # Extract last four digits of phone_number and ssn\n",
        "modifiedDF['phone_number'] = employeesDF['phone_number'].str[-4:]\n",
        "modifiedDF['ssn'] = employeesDF['ssn'].str[-4:]\n",
        "\n",
        "# Display the modified DataFrame\n",
        "modifiedDF\n"
      ],
      "metadata": {
        "colab": {
          "base_uri": "https://localhost:8080/",
          "height": 175
        },
        "id": "YfiTfIZTd52R",
        "outputId": "ea137352-e05d-48c4-f737-1174bf0ce8c6"
      },
      "execution_count": null,
      "outputs": [
        {
          "output_type": "execute_result",
          "data": {
            "text/plain": [
              "   employee_id phone_number   ssn\n",
              "0            1         7890  6789\n",
              "1            2         8901  9123\n",
              "2            3         1111  4444\n",
              "3            4         3210  6118"
            ],
            "text/html": [
              "\n",
              "  <div id=\"df-2f66fd97-b735-42c3-aed7-02364ffab902\">\n",
              "    <div class=\"colab-df-container\">\n",
              "      <div>\n",
              "<style scoped>\n",
              "    .dataframe tbody tr th:only-of-type {\n",
              "        vertical-align: middle;\n",
              "    }\n",
              "\n",
              "    .dataframe tbody tr th {\n",
              "        vertical-align: top;\n",
              "    }\n",
              "\n",
              "    .dataframe thead th {\n",
              "        text-align: right;\n",
              "    }\n",
              "</style>\n",
              "<table border=\"1\" class=\"dataframe\">\n",
              "  <thead>\n",
              "    <tr style=\"text-align: right;\">\n",
              "      <th></th>\n",
              "      <th>employee_id</th>\n",
              "      <th>phone_number</th>\n",
              "      <th>ssn</th>\n",
              "    </tr>\n",
              "  </thead>\n",
              "  <tbody>\n",
              "    <tr>\n",
              "      <th>0</th>\n",
              "      <td>1</td>\n",
              "      <td>7890</td>\n",
              "      <td>6789</td>\n",
              "    </tr>\n",
              "    <tr>\n",
              "      <th>1</th>\n",
              "      <td>2</td>\n",
              "      <td>8901</td>\n",
              "      <td>9123</td>\n",
              "    </tr>\n",
              "    <tr>\n",
              "      <th>2</th>\n",
              "      <td>3</td>\n",
              "      <td>1111</td>\n",
              "      <td>4444</td>\n",
              "    </tr>\n",
              "    <tr>\n",
              "      <th>3</th>\n",
              "      <td>4</td>\n",
              "      <td>3210</td>\n",
              "      <td>6118</td>\n",
              "    </tr>\n",
              "  </tbody>\n",
              "</table>\n",
              "</div>\n",
              "      <button class=\"colab-df-convert\" onclick=\"convertToInteractive('df-2f66fd97-b735-42c3-aed7-02364ffab902')\"\n",
              "              title=\"Convert this dataframe to an interactive table.\"\n",
              "              style=\"display:none;\">\n",
              "        \n",
              "  <svg xmlns=\"http://www.w3.org/2000/svg\" height=\"24px\"viewBox=\"0 0 24 24\"\n",
              "       width=\"24px\">\n",
              "    <path d=\"M0 0h24v24H0V0z\" fill=\"none\"/>\n",
              "    <path d=\"M18.56 5.44l.94 2.06.94-2.06 2.06-.94-2.06-.94-.94-2.06-.94 2.06-2.06.94zm-11 1L8.5 8.5l.94-2.06 2.06-.94-2.06-.94L8.5 2.5l-.94 2.06-2.06.94zm10 10l.94 2.06.94-2.06 2.06-.94-2.06-.94-.94-2.06-.94 2.06-2.06.94z\"/><path d=\"M17.41 7.96l-1.37-1.37c-.4-.4-.92-.59-1.43-.59-.52 0-1.04.2-1.43.59L10.3 9.45l-7.72 7.72c-.78.78-.78 2.05 0 2.83L4 21.41c.39.39.9.59 1.41.59.51 0 1.02-.2 1.41-.59l7.78-7.78 2.81-2.81c.8-.78.8-2.07 0-2.86zM5.41 20L4 18.59l7.72-7.72 1.47 1.35L5.41 20z\"/>\n",
              "  </svg>\n",
              "      </button>\n",
              "      \n",
              "  <style>\n",
              "    .colab-df-container {\n",
              "      display:flex;\n",
              "      flex-wrap:wrap;\n",
              "      gap: 12px;\n",
              "    }\n",
              "\n",
              "    .colab-df-convert {\n",
              "      background-color: #E8F0FE;\n",
              "      border: none;\n",
              "      border-radius: 50%;\n",
              "      cursor: pointer;\n",
              "      display: none;\n",
              "      fill: #1967D2;\n",
              "      height: 32px;\n",
              "      padding: 0 0 0 0;\n",
              "      width: 32px;\n",
              "    }\n",
              "\n",
              "    .colab-df-convert:hover {\n",
              "      background-color: #E2EBFA;\n",
              "      box-shadow: 0px 1px 2px rgba(60, 64, 67, 0.3), 0px 1px 3px 1px rgba(60, 64, 67, 0.15);\n",
              "      fill: #174EA6;\n",
              "    }\n",
              "\n",
              "    [theme=dark] .colab-df-convert {\n",
              "      background-color: #3B4455;\n",
              "      fill: #D2E3FC;\n",
              "    }\n",
              "\n",
              "    [theme=dark] .colab-df-convert:hover {\n",
              "      background-color: #434B5C;\n",
              "      box-shadow: 0px 1px 3px 1px rgba(0, 0, 0, 0.15);\n",
              "      filter: drop-shadow(0px 1px 2px rgba(0, 0, 0, 0.3));\n",
              "      fill: #FFFFFF;\n",
              "    }\n",
              "  </style>\n",
              "\n",
              "      <script>\n",
              "        const buttonEl =\n",
              "          document.querySelector('#df-2f66fd97-b735-42c3-aed7-02364ffab902 button.colab-df-convert');\n",
              "        buttonEl.style.display =\n",
              "          google.colab.kernel.accessAllowed ? 'block' : 'none';\n",
              "\n",
              "        async function convertToInteractive(key) {\n",
              "          const element = document.querySelector('#df-2f66fd97-b735-42c3-aed7-02364ffab902');\n",
              "          const dataTable =\n",
              "            await google.colab.kernel.invokeFunction('convertToInteractive',\n",
              "                                                     [key], {});\n",
              "          if (!dataTable) return;\n",
              "\n",
              "          const docLinkHtml = 'Like what you see? Visit the ' +\n",
              "            '<a target=\"_blank\" href=https://colab.research.google.com/notebooks/data_table.ipynb>data table notebook</a>'\n",
              "            + ' to learn more about interactive tables.';\n",
              "          element.innerHTML = '';\n",
              "          dataTable['output_type'] = 'display_data';\n",
              "          await google.colab.output.renderOutput(dataTable, element);\n",
              "          const docLink = document.createElement('div');\n",
              "          docLink.innerHTML = docLinkHtml;\n",
              "          element.appendChild(docLink);\n",
              "        }\n",
              "      </script>\n",
              "    </div>\n",
              "  </div>\n",
              "  "
            ]
          },
          "metadata": {},
          "execution_count": 63
        }
      ]
    },
    {
      "cell_type": "code",
      "source": [
        "\"\"\"Create new df from the given data\n",
        "\n",
        "schema=[\"name\", \"subject\", \"Marks\", \"Attendance\"]\n",
        "\n",
        "student_data=[(\"John\",\"Math\", 90, 80),(\"Michael\", \"Science\", 70, None), (\"David\", \"History\", 50,40), (\"Kelvin\", \"Computer\", 40,None ),\n",
        "(\"Paul\", \"GEO\", None, None), (None,None, None, None)]\"\"\"\n",
        "\n",
        "\n",
        "\n",
        "import pandas as pd\n",
        "\n",
        "schema = [\"name\", \"subject\", \"Marks\", \"Attendance\"]\n",
        "student_data = [(\"John\", \"Math\", 90, 80),\n",
        "                (\"Michael\", \"Science\", 70, None),\n",
        "                (\"David\", \"History\", 50, 40),\n",
        "                (\"Kelvin\", \"Computer\", 40, None),\n",
        "                (\"Paul\", \"GEO\", None, None),\n",
        "                (None, None, None, None)]\n",
        "\n",
        "student_df = pd.DataFrame(student_data, columns=schema)\n"
      ],
      "metadata": {
        "id": "MiqGTj0fnX02"
      },
      "execution_count": null,
      "outputs": []
    },
    {
      "cell_type": "code",
      "source": [
        "  display(student_df)"
      ],
      "metadata": {
        "colab": {
          "base_uri": "https://localhost:8080/",
          "height": 238
        },
        "id": "ZC5C5Wm6bH9s",
        "outputId": "fc4545f6-90f0-4a85-db79-4a4f8b5a685b"
      },
      "execution_count": null,
      "outputs": [
        {
          "output_type": "display_data",
          "data": {
            "text/plain": [
              "      name   subject  Marks  Attendance\n",
              "0     John      Math   90.0        80.0\n",
              "1  Michael   Science   70.0         NaN\n",
              "2    David   History   50.0        40.0\n",
              "3   Kelvin  Computer   40.0         NaN\n",
              "4     Paul       GEO    NaN         NaN\n",
              "5     None      None    NaN         NaN"
            ],
            "text/html": [
              "\n",
              "  <div id=\"df-d08fdd11-de37-4cce-9a22-63f34a48eb34\">\n",
              "    <div class=\"colab-df-container\">\n",
              "      <div>\n",
              "<style scoped>\n",
              "    .dataframe tbody tr th:only-of-type {\n",
              "        vertical-align: middle;\n",
              "    }\n",
              "\n",
              "    .dataframe tbody tr th {\n",
              "        vertical-align: top;\n",
              "    }\n",
              "\n",
              "    .dataframe thead th {\n",
              "        text-align: right;\n",
              "    }\n",
              "</style>\n",
              "<table border=\"1\" class=\"dataframe\">\n",
              "  <thead>\n",
              "    <tr style=\"text-align: right;\">\n",
              "      <th></th>\n",
              "      <th>name</th>\n",
              "      <th>subject</th>\n",
              "      <th>Marks</th>\n",
              "      <th>Attendance</th>\n",
              "    </tr>\n",
              "  </thead>\n",
              "  <tbody>\n",
              "    <tr>\n",
              "      <th>0</th>\n",
              "      <td>John</td>\n",
              "      <td>Math</td>\n",
              "      <td>90.0</td>\n",
              "      <td>80.0</td>\n",
              "    </tr>\n",
              "    <tr>\n",
              "      <th>1</th>\n",
              "      <td>Michael</td>\n",
              "      <td>Science</td>\n",
              "      <td>70.0</td>\n",
              "      <td>NaN</td>\n",
              "    </tr>\n",
              "    <tr>\n",
              "      <th>2</th>\n",
              "      <td>David</td>\n",
              "      <td>History</td>\n",
              "      <td>50.0</td>\n",
              "      <td>40.0</td>\n",
              "    </tr>\n",
              "    <tr>\n",
              "      <th>3</th>\n",
              "      <td>Kelvin</td>\n",
              "      <td>Computer</td>\n",
              "      <td>40.0</td>\n",
              "      <td>NaN</td>\n",
              "    </tr>\n",
              "    <tr>\n",
              "      <th>4</th>\n",
              "      <td>Paul</td>\n",
              "      <td>GEO</td>\n",
              "      <td>NaN</td>\n",
              "      <td>NaN</td>\n",
              "    </tr>\n",
              "    <tr>\n",
              "      <th>5</th>\n",
              "      <td>None</td>\n",
              "      <td>None</td>\n",
              "      <td>NaN</td>\n",
              "      <td>NaN</td>\n",
              "    </tr>\n",
              "  </tbody>\n",
              "</table>\n",
              "</div>\n",
              "      <button class=\"colab-df-convert\" onclick=\"convertToInteractive('df-d08fdd11-de37-4cce-9a22-63f34a48eb34')\"\n",
              "              title=\"Convert this dataframe to an interactive table.\"\n",
              "              style=\"display:none;\">\n",
              "        \n",
              "  <svg xmlns=\"http://www.w3.org/2000/svg\" height=\"24px\"viewBox=\"0 0 24 24\"\n",
              "       width=\"24px\">\n",
              "    <path d=\"M0 0h24v24H0V0z\" fill=\"none\"/>\n",
              "    <path d=\"M18.56 5.44l.94 2.06.94-2.06 2.06-.94-2.06-.94-.94-2.06-.94 2.06-2.06.94zm-11 1L8.5 8.5l.94-2.06 2.06-.94-2.06-.94L8.5 2.5l-.94 2.06-2.06.94zm10 10l.94 2.06.94-2.06 2.06-.94-2.06-.94-.94-2.06-.94 2.06-2.06.94z\"/><path d=\"M17.41 7.96l-1.37-1.37c-.4-.4-.92-.59-1.43-.59-.52 0-1.04.2-1.43.59L10.3 9.45l-7.72 7.72c-.78.78-.78 2.05 0 2.83L4 21.41c.39.39.9.59 1.41.59.51 0 1.02-.2 1.41-.59l7.78-7.78 2.81-2.81c.8-.78.8-2.07 0-2.86zM5.41 20L4 18.59l7.72-7.72 1.47 1.35L5.41 20z\"/>\n",
              "  </svg>\n",
              "      </button>\n",
              "      \n",
              "  <style>\n",
              "    .colab-df-container {\n",
              "      display:flex;\n",
              "      flex-wrap:wrap;\n",
              "      gap: 12px;\n",
              "    }\n",
              "\n",
              "    .colab-df-convert {\n",
              "      background-color: #E8F0FE;\n",
              "      border: none;\n",
              "      border-radius: 50%;\n",
              "      cursor: pointer;\n",
              "      display: none;\n",
              "      fill: #1967D2;\n",
              "      height: 32px;\n",
              "      padding: 0 0 0 0;\n",
              "      width: 32px;\n",
              "    }\n",
              "\n",
              "    .colab-df-convert:hover {\n",
              "      background-color: #E2EBFA;\n",
              "      box-shadow: 0px 1px 2px rgba(60, 64, 67, 0.3), 0px 1px 3px 1px rgba(60, 64, 67, 0.15);\n",
              "      fill: #174EA6;\n",
              "    }\n",
              "\n",
              "    [theme=dark] .colab-df-convert {\n",
              "      background-color: #3B4455;\n",
              "      fill: #D2E3FC;\n",
              "    }\n",
              "\n",
              "    [theme=dark] .colab-df-convert:hover {\n",
              "      background-color: #434B5C;\n",
              "      box-shadow: 0px 1px 3px 1px rgba(0, 0, 0, 0.15);\n",
              "      filter: drop-shadow(0px 1px 2px rgba(0, 0, 0, 0.3));\n",
              "      fill: #FFFFFF;\n",
              "    }\n",
              "  </style>\n",
              "\n",
              "      <script>\n",
              "        const buttonEl =\n",
              "          document.querySelector('#df-d08fdd11-de37-4cce-9a22-63f34a48eb34 button.colab-df-convert');\n",
              "        buttonEl.style.display =\n",
              "          google.colab.kernel.accessAllowed ? 'block' : 'none';\n",
              "\n",
              "        async function convertToInteractive(key) {\n",
              "          const element = document.querySelector('#df-d08fdd11-de37-4cce-9a22-63f34a48eb34');\n",
              "          const dataTable =\n",
              "            await google.colab.kernel.invokeFunction('convertToInteractive',\n",
              "                                                     [key], {});\n",
              "          if (!dataTable) return;\n",
              "\n",
              "          const docLinkHtml = 'Like what you see? Visit the ' +\n",
              "            '<a target=\"_blank\" href=https://colab.research.google.com/notebooks/data_table.ipynb>data table notebook</a>'\n",
              "            + ' to learn more about interactive tables.';\n",
              "          element.innerHTML = '';\n",
              "          dataTable['output_type'] = 'display_data';\n",
              "          await google.colab.output.renderOutput(dataTable, element);\n",
              "          const docLink = document.createElement('div');\n",
              "          docLink.innerHTML = docLinkHtml;\n",
              "          element.appendChild(docLink);\n",
              "        }\n",
              "      </script>\n",
              "    </div>\n",
              "  </div>\n",
              "  "
            ]
          },
          "metadata": {}
        }
      ]
    },
    {
      "cell_type": "code",
      "source": [
        "\"\"\"Use df from Task (3) and handle null values. Nulls in name column should be replaced with unknown, subject column should be replaced with EVS,\n",
        " Marks should be replaced with 40\n",
        " and attendance should be replaced with 35. Finally you should get output in this way\"\"\"\n",
        "\n",
        "import pandas as pd\n",
        "\n",
        "# Assuming you already have the student_df DataFrame from Task 3\n",
        "\n",
        "# Replace null values with specified values\n",
        "student_df[\"name\"].fillna(\"unknown\", inplace=True)\n",
        "student_df[\"subject\"].fillna(\"EVS\", inplace=True)\n",
        "student_df[\"Marks\"].fillna(40, inplace=True)\n",
        "student_df[\"Attendance\"].fillna(35, inplace=True)\n",
        "\n",
        "# Display the modified DataFrame\n",
        "student_df\n"
      ],
      "metadata": {
        "colab": {
          "base_uri": "https://localhost:8080/",
          "height": 238
        },
        "id": "kj7GOCkOnsWl",
        "outputId": "f3c59e92-9d62-4009-cbde-3f1467507139"
      },
      "execution_count": null,
      "outputs": [
        {
          "output_type": "execute_result",
          "data": {
            "text/plain": [
              "      name   subject  Marks  Attendance\n",
              "0     John      Math   90.0        80.0\n",
              "1  Michael   Science   70.0        35.0\n",
              "2    David   History   50.0        40.0\n",
              "3   Kelvin  Computer   40.0        35.0\n",
              "4     Paul       GEO   40.0        35.0\n",
              "5  unknown       EVS   40.0        35.0"
            ],
            "text/html": [
              "\n",
              "  <div id=\"df-5a06991e-284d-478b-bcf0-6bc4126a754a\">\n",
              "    <div class=\"colab-df-container\">\n",
              "      <div>\n",
              "<style scoped>\n",
              "    .dataframe tbody tr th:only-of-type {\n",
              "        vertical-align: middle;\n",
              "    }\n",
              "\n",
              "    .dataframe tbody tr th {\n",
              "        vertical-align: top;\n",
              "    }\n",
              "\n",
              "    .dataframe thead th {\n",
              "        text-align: right;\n",
              "    }\n",
              "</style>\n",
              "<table border=\"1\" class=\"dataframe\">\n",
              "  <thead>\n",
              "    <tr style=\"text-align: right;\">\n",
              "      <th></th>\n",
              "      <th>name</th>\n",
              "      <th>subject</th>\n",
              "      <th>Marks</th>\n",
              "      <th>Attendance</th>\n",
              "    </tr>\n",
              "  </thead>\n",
              "  <tbody>\n",
              "    <tr>\n",
              "      <th>0</th>\n",
              "      <td>John</td>\n",
              "      <td>Math</td>\n",
              "      <td>90.0</td>\n",
              "      <td>80.0</td>\n",
              "    </tr>\n",
              "    <tr>\n",
              "      <th>1</th>\n",
              "      <td>Michael</td>\n",
              "      <td>Science</td>\n",
              "      <td>70.0</td>\n",
              "      <td>35.0</td>\n",
              "    </tr>\n",
              "    <tr>\n",
              "      <th>2</th>\n",
              "      <td>David</td>\n",
              "      <td>History</td>\n",
              "      <td>50.0</td>\n",
              "      <td>40.0</td>\n",
              "    </tr>\n",
              "    <tr>\n",
              "      <th>3</th>\n",
              "      <td>Kelvin</td>\n",
              "      <td>Computer</td>\n",
              "      <td>40.0</td>\n",
              "      <td>35.0</td>\n",
              "    </tr>\n",
              "    <tr>\n",
              "      <th>4</th>\n",
              "      <td>Paul</td>\n",
              "      <td>GEO</td>\n",
              "      <td>40.0</td>\n",
              "      <td>35.0</td>\n",
              "    </tr>\n",
              "    <tr>\n",
              "      <th>5</th>\n",
              "      <td>unknown</td>\n",
              "      <td>EVS</td>\n",
              "      <td>40.0</td>\n",
              "      <td>35.0</td>\n",
              "    </tr>\n",
              "  </tbody>\n",
              "</table>\n",
              "</div>\n",
              "      <button class=\"colab-df-convert\" onclick=\"convertToInteractive('df-5a06991e-284d-478b-bcf0-6bc4126a754a')\"\n",
              "              title=\"Convert this dataframe to an interactive table.\"\n",
              "              style=\"display:none;\">\n",
              "        \n",
              "  <svg xmlns=\"http://www.w3.org/2000/svg\" height=\"24px\"viewBox=\"0 0 24 24\"\n",
              "       width=\"24px\">\n",
              "    <path d=\"M0 0h24v24H0V0z\" fill=\"none\"/>\n",
              "    <path d=\"M18.56 5.44l.94 2.06.94-2.06 2.06-.94-2.06-.94-.94-2.06-.94 2.06-2.06.94zm-11 1L8.5 8.5l.94-2.06 2.06-.94-2.06-.94L8.5 2.5l-.94 2.06-2.06.94zm10 10l.94 2.06.94-2.06 2.06-.94-2.06-.94-.94-2.06-.94 2.06-2.06.94z\"/><path d=\"M17.41 7.96l-1.37-1.37c-.4-.4-.92-.59-1.43-.59-.52 0-1.04.2-1.43.59L10.3 9.45l-7.72 7.72c-.78.78-.78 2.05 0 2.83L4 21.41c.39.39.9.59 1.41.59.51 0 1.02-.2 1.41-.59l7.78-7.78 2.81-2.81c.8-.78.8-2.07 0-2.86zM5.41 20L4 18.59l7.72-7.72 1.47 1.35L5.41 20z\"/>\n",
              "  </svg>\n",
              "      </button>\n",
              "      \n",
              "  <style>\n",
              "    .colab-df-container {\n",
              "      display:flex;\n",
              "      flex-wrap:wrap;\n",
              "      gap: 12px;\n",
              "    }\n",
              "\n",
              "    .colab-df-convert {\n",
              "      background-color: #E8F0FE;\n",
              "      border: none;\n",
              "      border-radius: 50%;\n",
              "      cursor: pointer;\n",
              "      display: none;\n",
              "      fill: #1967D2;\n",
              "      height: 32px;\n",
              "      padding: 0 0 0 0;\n",
              "      width: 32px;\n",
              "    }\n",
              "\n",
              "    .colab-df-convert:hover {\n",
              "      background-color: #E2EBFA;\n",
              "      box-shadow: 0px 1px 2px rgba(60, 64, 67, 0.3), 0px 1px 3px 1px rgba(60, 64, 67, 0.15);\n",
              "      fill: #174EA6;\n",
              "    }\n",
              "\n",
              "    [theme=dark] .colab-df-convert {\n",
              "      background-color: #3B4455;\n",
              "      fill: #D2E3FC;\n",
              "    }\n",
              "\n",
              "    [theme=dark] .colab-df-convert:hover {\n",
              "      background-color: #434B5C;\n",
              "      box-shadow: 0px 1px 3px 1px rgba(0, 0, 0, 0.15);\n",
              "      filter: drop-shadow(0px 1px 2px rgba(0, 0, 0, 0.3));\n",
              "      fill: #FFFFFF;\n",
              "    }\n",
              "  </style>\n",
              "\n",
              "      <script>\n",
              "        const buttonEl =\n",
              "          document.querySelector('#df-5a06991e-284d-478b-bcf0-6bc4126a754a button.colab-df-convert');\n",
              "        buttonEl.style.display =\n",
              "          google.colab.kernel.accessAllowed ? 'block' : 'none';\n",
              "\n",
              "        async function convertToInteractive(key) {\n",
              "          const element = document.querySelector('#df-5a06991e-284d-478b-bcf0-6bc4126a754a');\n",
              "          const dataTable =\n",
              "            await google.colab.kernel.invokeFunction('convertToInteractive',\n",
              "                                                     [key], {});\n",
              "          if (!dataTable) return;\n",
              "\n",
              "          const docLinkHtml = 'Like what you see? Visit the ' +\n",
              "            '<a target=\"_blank\" href=https://colab.research.google.com/notebooks/data_table.ipynb>data table notebook</a>'\n",
              "            + ' to learn more about interactive tables.';\n",
              "          element.innerHTML = '';\n",
              "          dataTable['output_type'] = 'display_data';\n",
              "          await google.colab.output.renderOutput(dataTable, element);\n",
              "          const docLink = document.createElement('div');\n",
              "          docLink.innerHTML = docLinkHtml;\n",
              "          element.appendChild(docLink);\n",
              "        }\n",
              "      </script>\n",
              "    </div>\n",
              "  </div>\n",
              "  "
            ]
          },
          "metadata": {},
          "execution_count": 66
        }
      ]
    },
    {
      "cell_type": "code",
      "source": [
        "#\n",
        "\n",
        "\n",
        "from pyspark.sql import SparkSession\n",
        "from pyspark.sql import Row\n",
        "import datetime\n",
        "\n",
        "# Create SparkSession\n",
        "spark = SparkSession.builder.getOrCreate()\n",
        "\n",
        "# Define the data\n",
        "users = [\n",
        "    {\n",
        "        \"id\": 1,\n",
        "        \"first_name\": \"Corrie\",\n",
        "        \"last_name\": \"Van den Oord\",\n",
        "        \"email\": \"cvandenoord0@etsy.com\",\n",
        "        \"phone_numbers\": Row(mobile=\"+1 234 567 8901\", home=\"+1 234 567 8911\"),\n",
        "        \"courses\": [1, 2],\n",
        "        \"is_customer\": True,\n",
        "        \"amount_paid\": 1000.55,\n",
        "        \"customer_from\": datetime.date(2021, 1, 15),\n",
        "        \"last_updated_ts\": datetime.datetime(2021, 2, 10, 1, 15, 0)\n",
        "    },\n",
        "    {\n",
        "        \"id\": 2,\n",
        "        \"first_name\": \"Nikolaus\",\n",
        "        \"last_name\": \"Brewitt\",\n",
        "        \"email\": \"nbrewitt1@dailymail.co.uk\",\n",
        "        \"phone_numbers\": Row(mobile=\"+1 234 567 8923\", home=\"1 234 567 8934\"),\n",
        "        \"courses\": [3],\n",
        "        \"is_customer\": True,\n",
        "        \"amount_paid\": 900.0,\n",
        "        \"customer_from\": datetime.date(2021, 2, 14),\n",
        "        \"last_updated_ts\": datetime.datetime(2021, 2, 18, 3, 33, 0)\n",
        "    },\n",
        "    {\n",
        "        \"id\": 3,\n",
        "        \"first_name\": \"Orelie\",\n",
        "        \"last_name\": \"Penney\",\n",
        "        \"email\": \"openney2@vistaprint.com\",\n",
        "        \"phone_numbers\": Row(mobile=\"+1 714 512 9752\", home=\"+1 714 512 6601\"),\n",
        "        \"courses\": [2, 4],\n",
        "        \"is_customer\": True,\n",
        "        \"amount_paid\": 850.55,\n",
        "        \"customer_from\": datetime.date(2021, 1, 21),\n",
        "        \"last_updated_ts\": datetime.datetime(2021, 3, 15, 15, 16, 55)\n",
        "    },\n",
        "    {\n",
        "        \"id\": 4,\n",
        "        \"first_name\": \"Ashby\",\n",
        "        \"last_name\": \"Maddocks\",\n",
        "        \"email\": \"amaddocks3@home.pl\",\n",
        "        \"phone_numbers\": Row(mobile=None, home=None),\n",
        "        \"courses\": [],\n",
        "        \"is_customer\": False,\n",
        "        \"amount_paid\": None,\n",
        "        \"customer_from\": None,\n",
        "        \"last_updated_ts\": datetime.datetime(2021, 4, 10, 17, 45, 30)\n",
        "    },\n",
        "    {\n",
        "        \"id\": 5,\n",
        "        \"first_name\": \"Kurt\",\n",
        "        \"last_name\": \"Rome\",\n",
        "        \"email\": \"krome4@shutterfly.com\",\n",
        "        \"phone_numbers\": Row(mobile=\"+1 817 934 7142\", home=None),\n",
        "        \"courses\": [],\n",
        "        \"is_customer\": False,\n",
        "        \"amount_paid\": None,\n",
        "        \"customer_from\": None,\n",
        "        \"last_updated_ts\": datetime.datetime(2021, 4, 2, 0, 55, 18)\n",
        "    }\n",
        "]\n",
        "\n",
        "# Create DataFrame\n",
        "usersDF = spark.createDataFrame(users)\n"
      ],
      "metadata": {
        "id": "rRUbskxEp0QP"
      },
      "execution_count": null,
      "outputs": []
    },
    {
      "cell_type": "code",
      "source": [
        "usersDF.show()"
      ],
      "metadata": {
        "colab": {
          "base_uri": "https://localhost:8080/"
        },
        "id": "L5JZz_5yqDp7",
        "outputId": "97971e57-25ea-4d35-f081-cffed7eca9f7"
      },
      "execution_count": null,
      "outputs": [
        {
          "output_type": "stream",
          "name": "stdout",
          "text": [
            "+-----------+-------+-------------+--------------------+----------+---+-----------+------------+-------------------+--------------------+\n",
            "|amount_paid|courses|customer_from|               email|first_name| id|is_customer|   last_name|    last_updated_ts|       phone_numbers|\n",
            "+-----------+-------+-------------+--------------------+----------+---+-----------+------------+-------------------+--------------------+\n",
            "|    1000.55| [1, 2]|   2021-01-15|cvandenoord0@etsy...|    Corrie|  1|       true|Van den Oord|2021-02-10 01:15:00|{+1 234 567 8901,...|\n",
            "|      900.0|    [3]|   2021-02-14|nbrewitt1@dailyma...|  Nikolaus|  2|       true|     Brewitt|2021-02-18 03:33:00|{+1 234 567 8923,...|\n",
            "|     850.55| [2, 4]|   2021-01-21|openney2@vistapri...|    Orelie|  3|       true|      Penney|2021-03-15 15:16:55|{+1 714 512 9752,...|\n",
            "|       null|     []|         null|  amaddocks3@home.pl|     Ashby|  4|      false|    Maddocks|2021-04-10 17:45:30|        {null, null}|\n",
            "|       null|     []|         null|krome4@shutterfly...|      Kurt|  5|      false|        Rome|2021-04-02 00:55:18|{+1 817 934 7142,...|\n",
            "+-----------+-------+-------------+--------------------+----------+---+-----------+------------+-------------------+--------------------+\n",
            "\n"
          ]
        }
      ]
    },
    {
      "cell_type": "code",
      "source": [
        "# Use df from task 5 and Sort the data in ascending order by customer_from\n",
        "\n",
        "# Sort the data in ascending order by customer_from and select customer_from and id columns\n",
        "sortedDF = usersDF.orderBy(asc(\"customer_from\")).select(\"customer_from\", \"id\")\n",
        "\n",
        "# Display the sorted DataFrame\n",
        "sortedDF.show()\n",
        "\n",
        "\n"
      ],
      "metadata": {
        "colab": {
          "base_uri": "https://localhost:8080/"
        },
        "id": "skwQFypLqLBq",
        "outputId": "240f82ee-9085-4623-a41d-51756e8f3ff3"
      },
      "execution_count": null,
      "outputs": [
        {
          "output_type": "stream",
          "name": "stdout",
          "text": [
            "+-------------+---+\n",
            "|customer_from| id|\n",
            "+-------------+---+\n",
            "|         null|  4|\n",
            "|         null|  5|\n",
            "|   2021-01-15|  1|\n",
            "|   2021-01-21|  3|\n",
            "|   2021-02-14|  2|\n",
            "+-------------+---+\n",
            "\n"
          ]
        }
      ]
    },
    {
      "cell_type": "code",
      "source": [
        "#\n",
        "\n",
        "# Assuming you already have the usersDF DataFrame from Task 5\n",
        "\n",
        "# Sort the data in ascending order by customer_from with null values coming at the end\n",
        "sortedDF = usersDF.orderBy(usersDF[\"customer_from\"].asc_nulls_last()).select(\"customer_from\", \"id\")\n",
        "\n",
        "# Display the sorted DataFrame\n",
        "sortedDF.show()\n"
      ],
      "metadata": {
        "colab": {
          "base_uri": "https://localhost:8080/"
        },
        "id": "E6i3WAq9sEhV",
        "outputId": "230c5b10-d533-4915-f79d-37b47aab3123"
      },
      "execution_count": null,
      "outputs": [
        {
          "output_type": "stream",
          "name": "stdout",
          "text": [
            "+-------------+---+\n",
            "|customer_from| id|\n",
            "+-------------+---+\n",
            "|   2021-01-15|  1|\n",
            "|   2021-01-21|  3|\n",
            "|   2021-02-14|  2|\n",
            "|         null|  4|\n",
            "|         null|  5|\n",
            "+-------------+---+\n",
            "\n"
          ]
        }
      ]
    },
    {
      "cell_type": "code",
      "source": [
        "import os\n",
        "os.listdir('.')\n"
      ],
      "metadata": {
        "colab": {
          "base_uri": "https://localhost:8080/"
        },
        "id": "zZ6xNhJWYmu5",
        "outputId": "c7fa6f99-33bc-49dc-9807-d9c0d85e0daf"
      },
      "execution_count": null,
      "outputs": [
        {
          "output_type": "execute_result",
          "data": {
            "text/plain": [
              "['.config', 'sample_data']"
            ]
          },
          "metadata": {},
          "execution_count": 2
        }
      ]
    },
    {
      "cell_type": "code",
      "source": [
        "!ls\n"
      ],
      "metadata": {
        "colab": {
          "base_uri": "https://localhost:8080/"
        },
        "id": "DRL9cBJaZZ9T",
        "outputId": "e06d8f70-0c43-488a-db5e-f782784995d0"
      },
      "execution_count": null,
      "outputs": [
        {
          "output_type": "stream",
          "name": "stdout",
          "text": [
            "sample_data\n"
          ]
        }
      ]
    },
    {
      "cell_type": "code",
      "source": [
        "import pandas as pd\n",
        "from google.colab import files\n",
        "\n",
        "uploaded = files.upload()\n"
      ],
      "metadata": {
        "id": "8549qbnfj4wm"
      },
      "execution_count": null,
      "outputs": []
    },
    {
      "cell_type": "code",
      "source": [
        "import io\n",
        "df2 = pd.read_csv(io.BytesIO(uploaded['/content/airline_dec_2008_50k.csv'))"
      ],
      "metadata": {
        "id": "U0fKehGVclvW"
      },
      "execution_count": null,
      "outputs": []
    },
    {
      "cell_type": "markdown",
      "source": [
        "# New Section"
      ],
      "metadata": {
        "id": "3lN8xEpOYf5j"
      }
    },
    {
      "cell_type": "markdown",
      "source": [
        "# New Section"
      ],
      "metadata": {
        "id": "BWdNqwTFa5Wt"
      }
    },
    {
      "cell_type": "code",
      "source": [],
      "metadata": {
        "id": "IenrAO6eZKb_"
      },
      "execution_count": null,
      "outputs": []
    }
  ]
}